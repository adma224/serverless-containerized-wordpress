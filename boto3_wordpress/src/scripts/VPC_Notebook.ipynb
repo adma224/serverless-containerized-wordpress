{
 "cells": [
  {
   "cell_type": "code",
   "execution_count": 2,
   "id": "369d3d9c",
   "metadata": {},
   "outputs": [],
   "source": [
    "import boto3\n",
    "\n",
    "ec2_client = boto3.client('ec2')\n",
    "ec2_resource = boto3.resource('ec2')\n",
    "rds_client = boto3.client('rds')\n",
    "efs_client = boto3.client('efs')\n",
    "elbv2_client = boto3.client('elbv2')"
   ]
  },
  {
   "cell_type": "code",
   "execution_count": 13,
   "id": "0b186283",
   "metadata": {},
   "outputs": [
    {
     "data": {
      "text/plain": [
       "[ec2.Tag(resource_id='vpc-00bc214477e067ad4', key='Name', value='wordpress-serverless-vpc')]"
      ]
     },
     "execution_count": 13,
     "metadata": {},
     "output_type": "execute_result"
    }
   ],
   "source": [
    "# Create VPC with CIDR Block 10.0.0.0/16\n",
    "vpc = ec2_resource.create_vpc(CidrBlock = '10.0.0.0/16')\n",
    "vpc.wait_until_available()\n",
    "vpc.create_tags(Tags=[{'Key': 'Name', 'Value': 'wordpress-serverless-vpc'}])"
   ]
  },
  {
   "cell_type": "code",
   "execution_count": null,
   "id": "f9fdb811",
   "metadata": {},
   "outputs": [],
   "source": [
    "ec2_client = boto3.client('ec2', region_name='us-west-2')  # Adjust region_name as needed\n",
    "response = ec2_client.describe_availability_zones()\n",
    "available_zones = [zone['ZoneName'] for zone in response['AvailabilityZones']]\n",
    "print(\"Available AZs:\", available_zones)"
   ]
  },
  {
   "cell_type": "code",
   "execution_count": 15,
   "id": "ea55f324",
   "metadata": {},
   "outputs": [
    {
     "data": {
      "text/plain": [
       "[ec2.Tag(resource_id='subnet-0a26b8ce072a083ce', key='Name', value='private-subnet-B')]"
      ]
     },
     "execution_count": 15,
     "metadata": {},
     "output_type": "execute_result"
    }
   ],
   "source": [
    "# Create public and private subnets of 10.0.x.0/24\n",
    "public_subnet_a = vpc.create_subnet(CidrBlock='10.0.1.0/24', AvailabilityZone='us-west-2a')\n",
    "public_subnet_a.create_tags(Tags=[{'Key': 'Name', 'Value': 'public-subnet-A'}])\n",
    "\n",
    "public_subnet_b = vpc.create_subnet(CidrBlock='10.0.2.0/24', AvailabilityZone='us-west-2b')\n",
    "public_subnet_b.create_tags(Tags=[{'Key': 'Name', 'Value': 'public-subnet-B'}])\n",
    "\n",
    "private_subnet_a = vpc.create_subnet(CidrBlock='10.0.3.0/24', AvailabilityZone='us-west-2a')\n",
    "private_subnet_a.create_tags(Tags=[{'Key': 'Name', 'Value': 'private-subnet-A'}])\n",
    "\n",
    "private_subnet_b = vpc.create_subnet(CidrBlock='10.0.4.0/24', AvailabilityZone='us-west-2b')\n",
    "private_subnet_b.create_tags(Tags=[{'Key': 'Name', 'Value': 'private-subnet-B'}])"
   ]
  },
  {
   "cell_type": "code",
   "execution_count": 17,
   "id": "367cf4bc",
   "metadata": {},
   "outputs": [
    {
     "data": {
      "text/plain": [
       "[ec2.Tag(resource_id='igw-0b175b4f33b677625', key='Name', value='wordpress-serverless-igw')]"
      ]
     },
     "execution_count": 17,
     "metadata": {},
     "output_type": "execute_result"
    }
   ],
   "source": [
    "# Create Internet Gateway and Attach it to VPC\n",
    "igw = ec2_resource.create_internet_gateway()\n",
    "vpc.attach_internet_gateway(InternetGatewayId = igw.id)\n",
    "igw.create_tags(Tags=[{'Key': 'Name', 'Value': 'wordpress-serverless-igw'}])"
   ]
  },
  {
   "cell_type": "code",
   "execution_count": 20,
   "id": "6c2e0807",
   "metadata": {},
   "outputs": [
    {
     "data": {
      "text/plain": [
       "[ec2.Tag(resource_id='rtb-09987fcf8bcb6228f', key='Name', value='wordpress-public-route-table')]"
      ]
     },
     "execution_count": 20,
     "metadata": {},
     "output_type": "execute_result"
    }
   ],
   "source": [
    "# Create route tables for public subnets\n",
    "public_route_table = vpc.create_route_table()\n",
    "public_route_table.create_route(DestinationCidrBlock='0.0.0.0/0', GatewayId = igw.id)\n",
    "public_route_table.associate_with_subnet(SubnetId = public_subnet_a.id)\n",
    "public_route_table.associate_with_subnet(SubnetId = public_subnet_b.id)\n",
    "public_route_table.create_tags(Tags=[{'Key': 'Name', 'Value': 'wordpress-public-route-table'}])"
   ]
  },
  {
   "cell_type": "code",
   "execution_count": 25,
   "id": "6894fb91",
   "metadata": {},
   "outputs": [
    {
     "data": {
      "text/plain": [
       "{'ResponseMetadata': {'RequestId': '13059ed4-51ec-48fb-b470-f53165788f1a',\n",
       "  'HTTPStatusCode': 200,\n",
       "  'HTTPHeaders': {'x-amzn-requestid': '13059ed4-51ec-48fb-b470-f53165788f1a',\n",
       "   'cache-control': 'no-cache, no-store',\n",
       "   'strict-transport-security': 'max-age=31536000; includeSubDomains',\n",
       "   'content-type': 'text/xml;charset=UTF-8',\n",
       "   'content-length': '221',\n",
       "   'date': 'Mon, 26 Feb 2024 20:15:43 GMT',\n",
       "   'server': 'AmazonEC2'},\n",
       "  'RetryAttempts': 0}}"
      ]
     },
     "execution_count": 25,
     "metadata": {},
     "output_type": "execute_result"
    }
   ],
   "source": [
    "# Allocate Elastic IPs for NAT Gateway\n",
    "eip_a = ec2_client.allocate_address(Domain='vpc')\n",
    "eip_a_id = eip_a['AllocationId']\n",
    "\n",
    "# Name the Elastic IP\n",
    "ec2_client.create_tags(Resources=[eip_a['AllocationId']], Tags=[{'Key': 'Name', 'Value': 'wordpress-eip-nat-gateway-a'}])\n",
    "\n",
    "# Create NAT Gateway in the public subnet A and tag it\n",
    "nat_gateway_a = ec2_client.create_nat_gateway(SubnetId=public_subnet_a.id, AllocationId=eip_a_id)\n",
    "nat_gateway_a_id = nat_gateway_a['NatGateway']['NatGatewayId']\n",
    "\n",
    "# Wait for the NAT Gateway to be available before tagging\n",
    "ec2_client.get_waiter('nat_gateway_available').wait(NatGatewayIds=[nat_gateway_a_id])\n",
    "ec2_client.create_tags(Resources=[nat_gateway_a_id], Tags=[{'Key': 'Name', 'Value': 'wordpress-nat-gateway-a'}])\n",
    "\n",
    "# Repeat for NAT Gateway B\n",
    "eip_b = ec2_client.allocate_address(Domain='vpc')\n",
    "eip_b_id = eip_b['AllocationId']\n",
    "\n",
    "# Name the Elastic IP\n",
    "ec2_client.create_tags(Resources=[eip_b['AllocationId']], Tags=[{'Key': 'Name', 'Value': 'wordpress-eip-nat-gateway-b'}])\n",
    "\n",
    "nat_gateway_b = ec2_client.create_nat_gateway(SubnetId=public_subnet_b.id, AllocationId=eip_b_id)\n",
    "nat_gateway_b_id = nat_gateway_b['NatGateway']['NatGatewayId']\n",
    "\n",
    "# Wait for the NAT Gateway B to be available and tag it\n",
    "ec2_client.get_waiter('nat_gateway_available').wait(NatGatewayIds=[nat_gateway_b_id])\n",
    "ec2_client.create_tags(Resources=[nat_gateway_b_id], Tags=[{'Key': 'Name', 'Value': 'wordpress-nat-gateway-b'}])\n"
   ]
  },
  {
   "cell_type": "code",
   "execution_count": 26,
   "id": "6d1ef5e0",
   "metadata": {},
   "outputs": [
    {
     "data": {
      "text/plain": [
       "[ec2.Tag(resource_id='rtb-0b9b2e6cb823f790e', key='Name', value='wordpress-private-route-table-b')]"
      ]
     },
     "execution_count": 26,
     "metadata": {},
     "output_type": "execute_result"
    }
   ],
   "source": [
    "# Create Route Tables for Private Subnets\n",
    "private_route_table_a = vpc.create_route_table()\n",
    "private_route_table_a.create_route(DestinationCidrBlock='0.0.0.0/0', NatGatewayId=nat_gateway_a['NatGateway']['NatGatewayId'])\n",
    "private_route_table_a.associate_with_subnet(SubnetId=private_subnet_a.id)\n",
    "private_route_table_a.create_tags(Tags=[{'Key': 'Name', 'Value': 'wordpress-private-route-table-a'}])\n",
    "\n",
    "private_route_table_b = vpc.create_route_table()\n",
    "private_route_table_b.create_route(DestinationCidrBlock='0.0.0.0/0', NatGatewayId=nat_gateway_b['NatGateway']['NatGatewayId'])\n",
    "private_route_table_b.associate_with_subnet(SubnetId=private_subnet_b.id)  # Corrected this line\n",
    "private_route_table_b.create_tags(Tags=[{'Key': 'Name', 'Value': 'wordpress-private-route-table-b'}])\n"
   ]
  },
  {
   "cell_type": "code",
   "execution_count": 28,
   "id": "d4d31026",
   "metadata": {},
   "outputs": [
    {
     "data": {
      "text/plain": [
       "{'Return': True,\n",
       " 'SecurityGroupRules': [{'SecurityGroupRuleId': 'sgr-0205d75ec77944894',\n",
       "   'GroupId': 'sg-092063b2410bfcb9a',\n",
       "   'GroupOwnerId': '058264094199',\n",
       "   'IsEgress': False,\n",
       "   'IpProtocol': 'tcp',\n",
       "   'FromPort': 80,\n",
       "   'ToPort': 80,\n",
       "   'CidrIpv4': '0.0.0.0/0'},\n",
       "  {'SecurityGroupRuleId': 'sgr-03a78486455ae8f7e',\n",
       "   'GroupId': 'sg-092063b2410bfcb9a',\n",
       "   'GroupOwnerId': '058264094199',\n",
       "   'IsEgress': False,\n",
       "   'IpProtocol': 'tcp',\n",
       "   'FromPort': 443,\n",
       "   'ToPort': 443,\n",
       "   'CidrIpv4': '0.0.0.0/0'}],\n",
       " 'ResponseMetadata': {'RequestId': 'a996f1c8-008e-4a0e-bce6-ca8675b06fed',\n",
       "  'HTTPStatusCode': 200,\n",
       "  'HTTPHeaders': {'x-amzn-requestid': 'a996f1c8-008e-4a0e-bce6-ca8675b06fed',\n",
       "   'cache-control': 'no-cache, no-store',\n",
       "   'strict-transport-security': 'max-age=31536000; includeSubDomains',\n",
       "   'content-type': 'text/xml;charset=UTF-8',\n",
       "   'content-length': '1126',\n",
       "   'date': 'Mon, 26 Feb 2024 20:26:55 GMT',\n",
       "   'server': 'AmazonEC2'},\n",
       "  'RetryAttempts': 0}}"
      ]
     },
     "execution_count": 28,
     "metadata": {},
     "output_type": "execute_result"
    }
   ],
   "source": [
    "alb_security_group = ec2_client.create_security_group(\n",
    "    GroupName='ALB_group',\n",
    "    Description='Security Group for Application Load Balancer Allowing Web Traffic',\n",
    "    VpcId=vpc.id  # If `vpc` is a VPC resource object, use `vpc.vpc_id` instead\n",
    ")\n",
    "\n",
    "ec2_client.authorize_security_group_ingress(\n",
    "    GroupId=alb_security_group['GroupId'],\n",
    "    IpPermissions=[\n",
    "        {\n",
    "            'IpProtocol': 'tcp',\n",
    "            'FromPort': 80,\n",
    "            'ToPort': 80,\n",
    "            'IpRanges': [{'CidrIp': '0.0.0.0/0'}]\n",
    "        },\n",
    "        {\n",
    "            'IpProtocol': 'tcp',\n",
    "            'FromPort': 443,\n",
    "            'ToPort': 443,\n",
    "            'IpRanges': [{'CidrIp': '0.0.0.0/0'}]\n",
    "        }\n",
    "    ]\n",
    ")\n"
   ]
  },
  {
   "cell_type": "code",
   "execution_count": 29,
   "id": "0f89bbb9",
   "metadata": {},
   "outputs": [
    {
     "data": {
      "text/plain": [
       "{'Return': True,\n",
       " 'SecurityGroupRules': [{'SecurityGroupRuleId': 'sgr-0970c981d94e6b069',\n",
       "   'GroupId': 'sg-01523779b35d49453',\n",
       "   'GroupOwnerId': '058264094199',\n",
       "   'IsEgress': False,\n",
       "   'IpProtocol': 'tcp',\n",
       "   'FromPort': 3306,\n",
       "   'ToPort': 3306,\n",
       "   'CidrIpv4': '10.0.0.0/16'}],\n",
       " 'ResponseMetadata': {'RequestId': '660591d2-4f02-407a-9577-aedb84cd01b9',\n",
       "  'HTTPStatusCode': 200,\n",
       "  'HTTPHeaders': {'x-amzn-requestid': '660591d2-4f02-407a-9577-aedb84cd01b9',\n",
       "   'cache-control': 'no-cache, no-store',\n",
       "   'strict-transport-security': 'max-age=31536000; includeSubDomains',\n",
       "   'content-type': 'text/xml;charset=UTF-8',\n",
       "   'content-length': '725',\n",
       "   'date': 'Mon, 26 Feb 2024 20:27:05 GMT',\n",
       "   'server': 'AmazonEC2'},\n",
       "  'RetryAttempts': 0}}"
      ]
     },
     "execution_count": 29,
     "metadata": {},
     "output_type": "execute_result"
    }
   ],
   "source": [
    "# Create RDS Security Group\n",
    "rds_security_group = ec2_client.create_security_group(\n",
    "    GroupName='RDS_group',\n",
    "    Description='Security Group for RDS MySQL Access',\n",
    "    VpcId=vpc.id\n",
    ")\n",
    "\n",
    "# Authorize MySQL traffic on port 3306 from within the VPC\n",
    "ec2_client.authorize_security_group_ingress(\n",
    "    GroupId=rds_security_group['GroupId'],\n",
    "    IpPermissions=[\n",
    "        {\n",
    "            'IpProtocol': 'tcp',\n",
    "            'FromPort': 3306,\n",
    "            'ToPort': 3306,\n",
    "            'IpRanges': [{'CidrIp': '10.0.0.0/16'}]  # Adjust the CIDR to match your VPC's CIDR block\n",
    "        }\n",
    "    ]\n",
    ")\n"
   ]
  },
  {
   "cell_type": "code",
   "execution_count": 30,
   "id": "0c8fdca1",
   "metadata": {},
   "outputs": [
    {
     "data": {
      "text/plain": [
       "{'Return': True,\n",
       " 'SecurityGroupRules': [{'SecurityGroupRuleId': 'sgr-0ec2b3f83e88c0f3f',\n",
       "   'GroupId': 'sg-0ac432ccea836a36d',\n",
       "   'GroupOwnerId': '058264094199',\n",
       "   'IsEgress': False,\n",
       "   'IpProtocol': 'tcp',\n",
       "   'FromPort': 2049,\n",
       "   'ToPort': 2049,\n",
       "   'CidrIpv4': '10.0.0.0/16'}],\n",
       " 'ResponseMetadata': {'RequestId': 'b68a34e9-379a-497e-86ee-02b2176fcf98',\n",
       "  'HTTPStatusCode': 200,\n",
       "  'HTTPHeaders': {'x-amzn-requestid': 'b68a34e9-379a-497e-86ee-02b2176fcf98',\n",
       "   'cache-control': 'no-cache, no-store',\n",
       "   'strict-transport-security': 'max-age=31536000; includeSubDomains',\n",
       "   'content-type': 'text/xml;charset=UTF-8',\n",
       "   'content-length': '725',\n",
       "   'date': 'Mon, 26 Feb 2024 20:27:13 GMT',\n",
       "   'server': 'AmazonEC2'},\n",
       "  'RetryAttempts': 0}}"
      ]
     },
     "execution_count": 30,
     "metadata": {},
     "output_type": "execute_result"
    }
   ],
   "source": [
    "# Create EFS Security Group\n",
    "efs_security_group = ec2_client.create_security_group(\n",
    "    GroupName='EFS_group',\n",
    "    Description='Security Group for EFS Access',\n",
    "    VpcId=vpc.id\n",
    ")\n",
    "\n",
    "# Authorize NFS traffic on port 2049 from within the VPC\n",
    "ec2_client.authorize_security_group_ingress(\n",
    "    GroupId=efs_security_group['GroupId'],\n",
    "    IpPermissions=[\n",
    "        {\n",
    "            'IpProtocol': 'tcp',\n",
    "            'FromPort': 2049,\n",
    "            'ToPort': 2049,\n",
    "            'IpRanges': [{'CidrIp': '10.0.0.0/16'}]  # Adjust the CIDR to match your VPC's CIDR block\n",
    "        }\n",
    "    ]\n",
    ")\n"
   ]
  },
  {
   "cell_type": "code",
   "execution_count": null,
   "id": "1efdc042",
   "metadata": {},
   "outputs": [],
   "source": []
  }
 ],
 "metadata": {
  "kernelspec": {
   "display_name": "Python 3 (ipykernel)",
   "language": "python",
   "name": "python3"
  },
  "language_info": {
   "codemirror_mode": {
    "name": "ipython",
    "version": 3
   },
   "file_extension": ".py",
   "mimetype": "text/x-python",
   "name": "python",
   "nbconvert_exporter": "python",
   "pygments_lexer": "ipython3",
   "version": "3.11.5"
  }
 },
 "nbformat": 4,
 "nbformat_minor": 5
}
