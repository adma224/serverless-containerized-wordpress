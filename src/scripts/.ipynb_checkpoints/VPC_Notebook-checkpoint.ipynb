{
 "cells": [
  {
   "cell_type": "code",
   "execution_count": 2,
   "id": "aebad36c",
   "metadata": {},
   "outputs": [],
   "source": [
    "import boto3\n",
    "\n",
    "ec2_client = boto3.client('ec2')\n",
    "ec2_resource = boto3.resource('ec2')\n",
    "rds_client = boto3.client('rds')\n",
    "efs_client = boto3.client('efs')\n",
    "elbv2_client = boto3.client('elbv2')"
   ]
  },
  {
   "cell_type": "code",
   "execution_count": 13,
   "id": "b9aa7002",
   "metadata": {},
   "outputs": [
    {
     "data": {
      "text/plain": [
       "[ec2.Tag(resource_id='vpc-00bc214477e067ad4', key='Name', value='wordpress-serverless-vpc')]"
      ]
     },
     "execution_count": 13,
     "metadata": {},
     "output_type": "execute_result"
    }
   ],
   "source": [
    "# Create VPC with CIDR Block 10.0.0.0/16\n",
    "vpc = ec2_resource.create_vpc(CidrBlock = '10.0.0.0/16')\n",
    "vpc.wait_until_available()\n",
    "vpc.create_tags(Tags=[{'Key': 'Name', 'Value': 'wordpress-serverless-vpc'}])"
   ]
  },
  {
   "cell_type": "code",
   "execution_count": null,
   "id": "ac1853e3",
   "metadata": {},
   "outputs": [],
   "source": [
    "ec2_client = boto3.client('ec2', region_name='us-west-2')  # Adjust region_name as needed\n",
    "response = ec2_client.describe_availability_zones()\n",
    "available_zones = [zone['ZoneName'] for zone in response['AvailabilityZones']]\n",
    "print(\"Available AZs:\", available_zones)"
   ]
  },
  {
   "cell_type": "code",
   "execution_count": 15,
   "id": "9f2442eb",
   "metadata": {},
   "outputs": [
    {
     "data": {
      "text/plain": [
       "[ec2.Tag(resource_id='subnet-0a26b8ce072a083ce', key='Name', value='private-subnet-B')]"
      ]
     },
     "execution_count": 15,
     "metadata": {},
     "output_type": "execute_result"
    }
   ],
   "source": [
    "# Create public and private subnets of 10.0.x.0/24\n",
    "public_subnet_a = vpc.create_subnet(CidrBlock='10.0.1.0/24', AvailabilityZone='us-west-2a')\n",
    "public_subnet_a.create_tags(Tags=[{'Key': 'Name', 'Value': 'public-subnet-A'}])\n",
    "\n",
    "public_subnet_b = vpc.create_subnet(CidrBlock='10.0.2.0/24', AvailabilityZone='us-west-2b')\n",
    "public_subnet_b.create_tags(Tags=[{'Key': 'Name', 'Value': 'public-subnet-B'}])\n",
    "\n",
    "private_subnet_a = vpc.create_subnet(CidrBlock='10.0.3.0/24', AvailabilityZone='us-west-2a')\n",
    "private_subnet_a.create_tags(Tags=[{'Key': 'Name', 'Value': 'private-subnet-A'}])\n",
    "\n",
    "private_subnet_b = vpc.create_subnet(CidrBlock='10.0.4.0/24', AvailabilityZone='us-west-2b')\n",
    "private_subnet_b.create_tags(Tags=[{'Key': 'Name', 'Value': 'private-subnet-B'}])"
   ]
  },
  {
   "cell_type": "code",
   "execution_count": 17,
   "id": "83404fd6",
   "metadata": {},
   "outputs": [
    {
     "data": {
      "text/plain": [
       "[ec2.Tag(resource_id='igw-0b175b4f33b677625', key='Name', value='wordpress-serverless-igw')]"
      ]
     },
     "execution_count": 17,
     "metadata": {},
     "output_type": "execute_result"
    }
   ],
   "source": [
    "# Create Internet Gateway and Attach it to VPC\n",
    "igw = ec2_resource.create_internet_gateway()\n",
    "vpc.attach_internet_gateway(InternetGatewayId = igw.id)\n",
    "igw.create_tags(Tags=[{'Key': 'Name', 'Value': 'wordpress-serverless-igw'}])"
   ]
  },
  {
   "cell_type": "code",
   "execution_count": 20,
   "id": "e2ae18a6",
   "metadata": {},
   "outputs": [
    {
     "data": {
      "text/plain": [
       "[ec2.Tag(resource_id='rtb-09987fcf8bcb6228f', key='Name', value='wordpress-public-route-table')]"
      ]
     },
     "execution_count": 20,
     "metadata": {},
     "output_type": "execute_result"
    }
   ],
   "source": [
    "# Create route tables for public subnets\n",
    "public_route_table = vpc.create_route_table()\n",
    "public_route_table.create_route(DestinationCidrBlock='0.0.0.0/0', GatewayId = igw.id)\n",
    "public_route_table.associate_with_subnet(SubnetId = public_subnet_a.id)\n",
    "public_route_table.associate_with_subnet(SubnetId = public_subnet_b.id)\n",
    "public_route_table.create_tags(Tags=[{'Key': 'Name', 'Value': 'wordpress-public-route-table'}])"
   ]
  },
  {
   "cell_type": "code",
   "execution_count": 24,
   "id": "f3fec444",
   "metadata": {},
   "outputs": [
    {
     "data": {
      "text/plain": [
       "{'ResponseMetadata': {'RequestId': '05a90d92-5cde-4884-86cd-9a6ba7cc9fe6',\n",
       "  'HTTPStatusCode': 200,\n",
       "  'HTTPHeaders': {'x-amzn-requestid': '05a90d92-5cde-4884-86cd-9a6ba7cc9fe6',\n",
       "   'cache-control': 'no-cache, no-store',\n",
       "   'strict-transport-security': 'max-age=31536000; includeSubDomains',\n",
       "   'content-type': 'text/xml;charset=UTF-8',\n",
       "   'content-length': '221',\n",
       "   'date': 'Mon, 26 Feb 2024 20:09:23 GMT',\n",
       "   'server': 'AmazonEC2'},\n",
       "  'RetryAttempts': 0}}"
      ]
     },
     "execution_count": 24,
     "metadata": {},
     "output_type": "execute_result"
    }
   ],
   "source": [
    "# Allocate Elastic IPs for NAT Gateway\n",
    "eip_a = ec2_client.allocate_address(Domain='vpc')\n",
    "eip_a_id = eip_a['AllocationId']\n",
    "\n",
    "# Name the Elastic IP\n",
    "ec2_client.create_tags(Resources=[eip_a['AllocationId']], Tags=[{'Key': 'Name', 'Value': 'wordpress-eip-nat-gateway-a'}])\n",
    "\n",
    "# Create NAT Gateway in the public subnet A and tag it\n",
    "nat_gateway_a = ec2_client.create_nat_gateway(SubnetId=public_subnet_a.id, AllocationId=eip_a_id)\n",
    "nat_gateway_a_id = nat_gateway_a['NatGateway']['NatGatewayId']\n",
    "\n",
    "# Wait for the NAT Gateway to be available before tagging\n",
    "ec2_client.get_waiter('nat_gateway_available').wait(NatGatewayIds=[nat_gateway_a_id])\n",
    "ec2_client.create_tags(Resources=[nat_gateway_a_id], Tags=[{'Key': 'Name', 'Value': 'wordpress-nat-gateway-a'}])\n",
    "\n",
    "# Repeat for NAT Gateway B\n",
    "eip_b = ec2_client.allocate_address(Domain='vpc')\n",
    "eip_b_id = eip_b['AllocationId']\n",
    "\n",
    "# Name the Elastic IP\n",
    "ec2_client.create_tags(Resources=[eip_b['AllocationId']], Tags=[{'Key': 'Name', 'Value': 'wordpress-eip-nat-gateway-b'}])\n",
    "\n",
    "nat_gateway_b = ec2_client.create_nat_gateway(SubnetId=public_subnet_b.id, AllocationId=eip_b_id)\n",
    "nat_gateway_b_id = nat_gateway_b['NatGateway']['NatGatewayId']\n",
    "\n",
    "# Wait for the NAT Gateway B to be available and tag it\n",
    "ec2_client.get_waiter('nat_gateway_available').wait(NatGatewayIds=[nat_gateway_b_id])\n",
    "ec2_client.create_tags(Resources=[nat_gateway_b_id], Tags=[{'Key': 'Name', 'Value': 'wordpress-nat-gateway-b'}])\n"
   ]
  },
  {
   "cell_type": "code",
   "execution_count": null,
   "id": "ced5222a",
   "metadata": {},
   "outputs": [],
   "source": []
  }
 ],
 "metadata": {
  "kernelspec": {
   "display_name": "Python 3 (ipykernel)",
   "language": "python",
   "name": "python3"
  },
  "language_info": {
   "codemirror_mode": {
    "name": "ipython",
    "version": 3
   },
   "file_extension": ".py",
   "mimetype": "text/x-python",
   "name": "python",
   "nbconvert_exporter": "python",
   "pygments_lexer": "ipython3",
   "version": "3.11.5"
  }
 },
 "nbformat": 4,
 "nbformat_minor": 5
}
